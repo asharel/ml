{
 "cells": [
  {
   "cell_type": "markdown",
   "metadata": {},
   "source": [
    "<font color=\"#04B404\"><h1 align=\"center\">Machine Learning 2017-2018</h1></font>\n",
    "<font color=\"#6E6E6E\"><h2 align=\"center\">Práctica 4: Support Vector Machines - El algoritmo SMO</h2></font>"
   ]
  },
  {
   "cell_type": "markdown",
   "metadata": {},
   "source": [
    "En esta práctica vamos a implementar una versión simplificada del algoritmo SMO basada en <a href=\"http://cs229.stanford.edu/materials/smo.pdf\">estas notas</a>. El algoritmo SMO original (<a href=\"https://www.microsoft.com/en-us/research/publication/sequential-minimal-optimization-a-fast-algorithm-for-training-support-vector-machines/\">Platt, 1998</a>) utiliza una heurística algo compleja para seleccionar las alphas con respecto a las cuales optimizar. La versión que vamos a implementar simplifica el proceso de elección de las alphas, a costa de una convergencia más lenta. Una vez implementado, compararemos los resultados de nuestro algoritmo con los obtenidos usando a clase <a href=\"http://scikit-learn.org/stable/modules/generated/sklearn.svm.SVC.html\">SVC</a> del paquete *sklearn.svm*.\n",
    "\n",
    "Finalmente, utilizaremos la implementación de *sklearn* para resolver problemas sencillos de clasificación en dos dimensiones y visualizar fácilmente la frontera de decisión y el margen.\n",
    "\n",
    "Todo el código que tienes que desarrollar lo debes incluir en el fichero *svm.py*, en los lugares indicados.\n",
    "\n"
   ]
  },
  {
   "cell_type": "markdown",
   "metadata": {},
   "source": [
    "### Entrega:\n",
    "\n",
    "La fecha tope para la entrega es el <font color=\"#931405\">**21/12/2017 a las 23:59**</font>. Se debe subir a la plataforma moodle un único fichero comprimido con el siguiente contenido:\n",
    "\n",
    "- El fichero *svm.py* con todo el código añadido para la realización de esta práctica.\n",
    "- Este notebook con las respuestas a las preguntas planteadas al final."
   ]
  },
  {
   "cell_type": "markdown",
   "metadata": {},
   "source": [
    "### 1. Implementando los kernels\n",
    "\n",
    "Lo primero que vamos a hacer es implementar las funciones que calculan los kernels. En el fichero *svm.py*, completa el código de las funciones *linear_kernel*, *poly_kernel* y *rbf_kernel*. Luego ejecuta las celdas siguientes, que comparan los resultados de estas funciones con funciones equivalentes de *sklearn*. "
   ]
  },
  {
   "cell_type": "code",
   "execution_count": 1,
   "metadata": {
    "collapsed": true
   },
   "outputs": [],
   "source": [
    "# Imports\n",
    "import numpy as np\n",
    "import svm as svm \n",
    "from sklearn.metrics.pairwise import polynomial_kernel\n",
    "from sklearn.metrics.pairwise import rbf_kernel"
   ]
  },
  {
   "cell_type": "code",
   "execution_count": 2,
   "metadata": {},
   "outputs": [
    {
     "name": "stdout",
     "output_type": "stream",
     "text": [
      "(10, 4)\n",
      "(8, 4)\n"
     ]
    }
   ],
   "source": [
    "# Datos de prueba:\n",
    "n = 10\n",
    "m = 8\n",
    "d = 4\n",
    "x = np.random.randn(n, d)\n",
    "y = np.random.randn(m, d)\n",
    "print (x.shape)\n",
    "print (y.shape)"
   ]
  },
  {
   "cell_type": "markdown",
   "metadata": {},
   "source": [
    "#### 1.1. Kernel lineal\n",
    "\n",
    "Completa el código de la función *linear_kernel* y comprueba tu solución."
   ]
  },
  {
   "cell_type": "code",
   "execution_count": 3,
   "metadata": {},
   "outputs": [
    {
     "name": "stdout",
     "output_type": "stream",
     "text": [
      "El array K deberia tener dimensiones: (10, 8)\n",
      "A ti te sale un array con dimensiones: (10, 8)\n",
      "Maxima diferencia entre tu implementacion y la de sklearn: 0.0\n"
     ]
    }
   ],
   "source": [
    "# Con tu implementación:\n",
    "K = svm.linear_kernel(x, y)\n",
    "print (\"El array K deberia tener dimensiones: (%d, %d)\" % (n, m))\n",
    "print (\"A ti te sale un array con dimensiones:\", K.shape)\n",
    "\n",
    "# Con la implementación de sklearn:\n",
    "K_ = polynomial_kernel(x, y, degree=1, gamma=1, coef0=1)\n",
    "\n",
    "# Diferencia entre tu kernel y el de sklearn (deberia salir practicamente 0): \n",
    "maxdif = np.max(np.abs(K - K_))\n",
    "print (\"Maxima diferencia entre tu implementacion y la de sklearn:\", maxdif)"
   ]
  },
  {
   "cell_type": "markdown",
   "metadata": {},
   "source": [
    "#### 1.2. Kernel polinómico\n",
    "\n",
    "Completa el código de la función *poly_kernel* y comprueba tu solución."
   ]
  },
  {
   "cell_type": "code",
   "execution_count": 4,
   "metadata": {},
   "outputs": [
    {
     "name": "stdout",
     "output_type": "stream",
     "text": [
      "El array K deberia tener dimensiones: (10, 8)\n",
      "A ti te sale un array con dimensiones: (10, 8)\n",
      "Maxima diferencia entre tu implementacion y la de sklearn: 0.0\n"
     ]
    }
   ],
   "source": [
    "# Con tu implementación:\n",
    "K = svm.poly_kernel(x, y, deg=2, b=1)\n",
    "print (\"El array K deberia tener dimensiones: (%d, %d)\" % (n, m))\n",
    "print (\"A ti te sale un array con dimensiones:\", K.shape)\n",
    "\n",
    "# Con la implementación de sklearn:\n",
    "K_ = polynomial_kernel(x, y, degree=2, gamma=1, coef0=1)\n",
    "\n",
    "# Diferencia entre tu kernel y el de sklearn (deberia salir practicamente 0): \n",
    "maxdif = np.max(np.abs(K - K_))\n",
    "print (\"Maxima diferencia entre tu implementacion y la de sklearn:\", maxdif)"
   ]
  },
  {
   "cell_type": "markdown",
   "metadata": {},
   "source": [
    "#### 1.3. Kernel gausiano\n",
    "\n",
    "Completa el código de la función *rbf_kernel* y comprueba tu solución."
   ]
  },
  {
   "cell_type": "code",
   "execution_count": 5,
   "metadata": {},
   "outputs": [
    {
     "name": "stdout",
     "output_type": "stream",
     "text": [
      "El array K deberia tener dimensiones: (10, 8)\n",
      "A ti te sale un array con dimensiones: (10, 8)\n",
      "Maxima diferencia entre tu implementacion y la de sklearn: 4.4408920985e-16\n"
     ]
    }
   ],
   "source": [
    "s = 1.0\n",
    "\n",
    "# Con tu implementación:\n",
    "K = svm.rbf_kernel(x, y, sigma=s)\n",
    "print (\"El array K deberia tener dimensiones: (%d, %d)\" % (n, m))\n",
    "print (\"A ti te sale un array con dimensiones:\", K.shape)\n",
    "\n",
    "# Con la implementación de sklearn:\n",
    "K_ = rbf_kernel(x, y, gamma=1/(2*s**2))\n",
    "\n",
    "# Diferencia entre tu kernel y el de sklearn (deberia salir practicamente 0): \n",
    "maxdif = np.max(np.abs(K - K_))\n",
    "print (\"Maxima diferencia entre tu implementacion y la de sklearn:\", maxdif)"
   ]
  },
  {
   "cell_type": "markdown",
   "metadata": {},
   "source": [
    "### 2. El algoritmo SMO\n",
    "\n",
    "A continuación vas a completar la clase SVM, que representa un clasificador basado en máquinas de vectores de soporte, y vas a implementar el algoritmo SMO dentro de esta clase."
   ]
  },
  {
   "cell_type": "markdown",
   "metadata": {},
   "source": [
    "#### 2.1. Implementa el método *evaluate_model*\n",
    "\n",
    "Lo primero que debes hacer es completar el método *evaluate_model*, que recibe un array con los datos (atributos) del problema $x$ y calcula $f(x)$. Una vez que lo tengas, para comprobar que funciona bien, puedes ejecutar la siguiente celda de código:"
   ]
  },
  {
   "cell_type": "code",
   "execution_count": 6,
   "metadata": {},
   "outputs": [
    {
     "name": "stdout",
     "output_type": "stream",
     "text": [
      "Predicciones (deberian ser [1, 1, -1, -1]): [ 1.  1. -1. -1.]\n"
     ]
    }
   ],
   "source": [
    "# Datos de prueba (problema XOR):\n",
    "x = np.array([[-1, -1], [1, 1], [1, -1], [-1, 1]])\n",
    "y = np.array([1, 1, -1, -1])\n",
    "\n",
    "# Alphas y b:\n",
    "alpha = np.array([0.125, 0.125, 0.125, 0.125])\n",
    "b = 0\n",
    "\n",
    "# Clasificador, introducimos la solucion a mano:\n",
    "svc = svm.SVM(C=1000, kernel=\"poly\", sigma=1, deg=2, b=1)\n",
    "svc.init_model(alpha, b, x, y)\n",
    "\n",
    "# Clasificamos los puntos x:\n",
    "y_ = svc.evaluate_model(x)\n",
    "\n",
    "# Las predicciones deben ser exactamente iguales que las clases:\n",
    "print (\"Predicciones (deberian ser [1, 1, -1, -1]):\", y_)"
   ]
  },
  {
   "cell_type": "markdown",
   "metadata": {},
   "source": [
    "#### 2.2. Completa el resto de métodos de la clase SVM\n",
    "\n",
    "Completa los métodos *select_alphas*, *calculate_eta*, *update_alphas* y *update_b*. Cuando los tengas acabados, ejecuta las celdas siguientes para comprobar tu implementación.\n",
    "\n",
    "La primera prueba consiste en entrenar el problema del XOR:"
   ]
  },
  {
   "cell_type": "code",
   "execution_count": 7,
   "metadata": {},
   "outputs": [
    {
     "name": "stdout",
     "output_type": "stream",
     "text": [
      "Iteration (1 / 100), num. sv: 2\n",
      "Iteration (2 / 100), num. sv: 3\n",
      "Iteration (3 / 100), num. sv: 4\n",
      "Iteration (4 / 100), num. sv: 4\n",
      "Iteration (5 / 100), num. sv: 4\n",
      "Iteration (6 / 100), num. sv: 4\n",
      "Iteration (7 / 100), num. sv: 4\n",
      "Iteration (8 / 100), num. sv: 4\n",
      "Iteration (9 / 100), num. sv: 4\n",
      "Iteration (10 / 100), num. sv: 4\n",
      "Iteration (11 / 100), num. sv: 4\n",
      "Iteration (12 / 100), num. sv: 4\n",
      "Iteration (13 / 100), num. sv: 4\n",
      "Iteration (14 / 100), num. sv: 4\n",
      "Iteration (15 / 100), num. sv: 4\n",
      "Iteration (16 / 100), num. sv: 4\n",
      "Iteration (19 / 100), num. sv: 4\n",
      "Iteration (20 / 100), num. sv: 4\n",
      "Iteration (21 / 100), num. sv: 4\n",
      "Iteration (22 / 100), num. sv: 4\n",
      "Iteration (23 / 100), num. sv: 4\n",
      "alpha = [ 0.125  0.125  0.125  0.125]\n",
      "b = 0.0\n",
      "Predicciones = [ 1.  1. -1. -1.]\n"
     ]
    }
   ],
   "source": [
    "# Prueba con los datos del XOR:\n",
    "x = np.array([[-1, -1], [1, 1], [1, -1], [-1, 1]])\n",
    "y = np.array([1, 1, -1, -1])\n",
    "\n",
    "# Clasificador que entrenamos para resolver el problema:\n",
    "svc = svm.SVM(C=1000, kernel=\"poly\", sigma=1, deg=2, b=1)\n",
    "svc.simple_smo(x, y, maxiter = 100, verb=True)\n",
    "\n",
    "# Imprimimos los alphas y el bias (deberian ser alpha_i = 0.125, b = 0):\n",
    "print (\"alpha =\", svc.alpha)\n",
    "print (\"b =\", svc.b)\n",
    "\n",
    "# Clasificamos los puntos x (las predicciones deberian ser iguales a las clases reales):\n",
    "y_ = svc.evaluate_model(x)\n",
    "print (\"Predicciones =\", y_)"
   ]
  },
  {
   "cell_type": "markdown",
   "metadata": {},
   "source": [
    "La siguiente prueba genera un problema al azar y lo resuelve con tu método y con *sklearn*. Ambas soluciones deberían ser parecidas, aunque la tuya será mucho más lenta. Prueba con los diferentes tipos de kernels para comprobar tu implementación."
   ]
  },
  {
   "cell_type": "code",
   "execution_count": 9,
   "metadata": {},
   "outputs": [
    {
     "name": "stdout",
     "output_type": "stream",
     "text": [
      "Resultados con sklearn:\n",
      "  -- Num. vectores de soporte = 14\n",
      "  -- Bias b = 1.96308761014\n",
      "Iteration (20 / 500), num. sv: 14\n",
      "Resultados con tu algoritmo:\n",
      "  -- Num. vectores de soporte = 17\n",
      "  -- Bias b = [-0.99490029]\n"
     ]
    },
    {
     "ename": "ValueError",
     "evalue": "operands could not be broadcast together with shapes (1,14) (17,) ",
     "output_type": "error",
     "traceback": [
      "\u001b[0;31m---------------------------------------------------------------------------\u001b[0m",
      "\u001b[0;31mValueError\u001b[0m                                Traceback (most recent call last)",
      "\u001b[0;32m<ipython-input-9-d0d345fba92f>\u001b[0m in \u001b[0;36m<module>\u001b[0;34m()\u001b[0m\n\u001b[1;32m     26\u001b[0m \u001b[0;34m\u001b[0m\u001b[0m\n\u001b[1;32m     27\u001b[0m \u001b[0;31m# Maxima diferencia entre tus alphas y las de sklearn:\u001b[0m\u001b[0;34m\u001b[0m\u001b[0;34m\u001b[0m\u001b[0m\n\u001b[0;32m---> 28\u001b[0;31m \u001b[0mmaxdif\u001b[0m \u001b[0;34m=\u001b[0m \u001b[0mnp\u001b[0m\u001b[0;34m.\u001b[0m\u001b[0mmax\u001b[0m\u001b[0;34m(\u001b[0m\u001b[0mnp\u001b[0m\u001b[0;34m.\u001b[0m\u001b[0mabs\u001b[0m\u001b[0;34m(\u001b[0m\u001b[0mnp\u001b[0m\u001b[0;34m.\u001b[0m\u001b[0msort\u001b[0m\u001b[0;34m(\u001b[0m\u001b[0ma1\u001b[0m\u001b[0;34m)\u001b[0m \u001b[0;34m-\u001b[0m \u001b[0mnp\u001b[0m\u001b[0;34m.\u001b[0m\u001b[0msort\u001b[0m\u001b[0;34m(\u001b[0m\u001b[0ma2\u001b[0m\u001b[0;34m)\u001b[0m\u001b[0;34m)\u001b[0m\u001b[0;34m)\u001b[0m\u001b[0;34m\u001b[0m\u001b[0m\n\u001b[0m\u001b[1;32m     29\u001b[0m \u001b[0mprint\u001b[0m \u001b[0;34m(\u001b[0m\u001b[0;34m\"Maxima diferencia entre tus alphas y las de sklearn:\"\u001b[0m\u001b[0;34m,\u001b[0m \u001b[0mmaxdif\u001b[0m\u001b[0;34m)\u001b[0m\u001b[0;34m\u001b[0m\u001b[0m\n",
      "\u001b[0;31mValueError\u001b[0m: operands could not be broadcast together with shapes (1,14) (17,) "
     ]
    }
   ],
   "source": [
    "# Prueba con otros problemas y comparacion con sklearn:\n",
    "from sklearn.svm import SVC\n",
    "\n",
    "# Generacion de los datos:\n",
    "n = 20\n",
    "X = np.random.rand(n,2)\n",
    "y = 2.0*(X[:,0] > X[:,1]) -1\n",
    "\n",
    "# Uso de SVC:\n",
    "clf = SVC(C=10.0, kernel='rbf', degree=2.0, coef0=1.0, gamma=0.5)\n",
    "clf.fit(X, y)  \n",
    "print (\"Resultados con sklearn:\")\n",
    "print (\"  -- Num. vectores de soporte =\", clf.dual_coef_.shape[1])\n",
    "print (\"  -- Bias b =\", clf.intercept_[0])\n",
    "\n",
    "# Uso de tu algoritmo:\n",
    "svc = svm.SVM(C=10, kernel=\"rbf\", sigma=1.0, deg=2.0, b=1.0)\n",
    "svc.simple_smo(X, y, maxiter = 500, tol=1.e-15, verb=True, print_every=10)\n",
    "print (\"Resultados con tu algoritmo:\")\n",
    "print (\"  -- Num. vectores de soporte =\", svc.num_sv)\n",
    "print (\"  -- Bias b =\", svc.b)\n",
    "\n",
    "# Comparacion entre las alphas:\n",
    "a1 = clf.dual_coef_\n",
    "a2 = (svc.alpha * y)[svc.is_sv]\n",
    "\n",
    "# Maxima diferencia entre tus alphas y las de sklearn: \n",
    "maxdif = np.max(np.abs(np.sort(a1) - np.sort(a2)))\n",
    "print (\"Maxima diferencia entre tus alphas y las de sklearn:\", maxdif)"
   ]
  },
  {
   "cell_type": "markdown",
   "metadata": {},
   "source": [
    "### 3. Visualización de modelos sencillos\n",
    "\n",
    "Finalmente vamos a utilizar la implementación de *sklearn* para resolver problemas sencillos de clasificación en dos dimensiones. El objetivo es entender cómo funcionan los distintos tipos de kernel (polinómico y RBF) con problemas que se pueden visualizar fácilmente. \n",
    "\n",
    "Para implementar los modelos utilizaremos la clase <a href=\"http://scikit-learn.org/stable/modules/generated/sklearn.svm.SVC.html\">SVC</a> del paquete *sklearn.svm*. \n",
    "\n",
    "Primero importamos algunos módulos adicionales, establecemos el modo *inline* para las gráficas de *matplotlib* e inicializamos la semilla del generador de números aleatorios. El módulo *p4_utils* contiene funciones para generar datos en 2D y visualizar los modelos."
   ]
  },
  {
   "cell_type": "code",
   "execution_count": 3,
   "metadata": {
    "collapsed": true
   },
   "outputs": [],
   "source": [
    "from p4_utils import *\n",
    "import matplotlib.pyplot as plt\n",
    "from sklearn.svm import SVC\n",
    "%matplotlib inline\n",
    "np.random.seed(19)"
   ]
  },
  {
   "cell_type": "markdown",
   "metadata": {},
   "source": [
    "La siguiente celda realiza las siguientes acciones:\n",
    "\n",
    "- Crea un problema con dos conjuntos de datos (entrenamiento y test) de 50 puntos cada uno, y dos clases (+1 y -1). La frontera que separa las clases es lineal. \n",
    "\n",
    "- Entrena un clasificador SVC para separar las dos clases, con un kernel lineal.\n",
    "\n",
    "- Imprime los vectores de soporte, las alphas y el bias.\n",
    "\n",
    "- Obtiene la tasa de acierto en training y en test.\n",
    "\n",
    "- Y finalmente dibuja el modelo sobre los datos de entrenamiento y test. La línea negra es la frontera de separación, mientras que las líneas azul y roja representan los márgenes para las clases azul y roja respectivamente. Sobre la gráfica de entrenamiento muestra además los vectores de soporte.\n"
   ]
  },
  {
   "cell_type": "code",
   "execution_count": 11,
   "metadata": {},
   "outputs": [
    {
     "name": "stdout",
     "output_type": "stream",
     "text": [
      "Vectores de soporte: 50\n",
      "   [2.834487, 1.888724]  c = -1\n",
      "   [2.319006, 2.326998]  c = -1\n",
      "   [5.096256, 3.018241]  c = -1\n",
      "   [5.394687, 4.186990]  c = -1\n",
      "   [4.424420, 3.553010]  c = -1\n",
      "   [4.300315, 1.206030]  c = -1\n",
      "   [2.597145, 1.527936]  c = -1\n",
      "   [2.187838, 2.399108]  c = -1\n",
      "   [1.428400, 0.842999]  c = -1\n",
      "   [4.665185, 2.441806]  c = -1\n",
      "   [6.139756, 2.786230]  c = -1\n",
      "   [3.169259, 1.282274]  c = -1\n",
      "   [5.133522, 2.824347]  c = -1\n",
      "   [5.735428, 6.092927]  c = -1\n",
      "   [5.971615, 5.373033]  c = -1\n",
      "   [5.356622, 2.041796]  c = -1\n",
      "   [6.014617, 5.963064]  c = -1\n",
      "   [4.573960, 2.519713]  c = -1\n",
      "   [5.406047, 1.256042]  c = -1\n",
      "   [3.433642, 3.616960]  c = -1\n",
      "   [5.886428, 0.909104]  c = -1\n",
      "   [4.633833, 3.205618]  c = -1\n",
      "   [5.281496, 5.306169]  c = -1\n",
      "   [1.736592, 1.006321]  c = -1\n",
      "   [4.070509, 1.730583]  c = -1\n",
      "   [5.407187, 3.870714]  c = -1\n",
      "   [3.902188, 3.548228]  c = -1\n",
      "   [1.514737, 4.413743]  c = 1\n",
      "   [0.163358, 3.328804]  c = 1\n",
      "   [3.952677, 3.596140]  c = 1\n",
      "   [1.145998, 3.879683]  c = 1\n",
      "   [2.314429, 2.184788]  c = 1\n",
      "   [2.512130, 3.575978]  c = 1\n",
      "   [3.194181, 2.747598]  c = 1\n",
      "   [3.092288, 4.219436]  c = 1\n",
      "   [1.527704, 4.584144]  c = 1\n",
      "   [1.460436, 1.101979]  c = 1\n",
      "   [2.741230, 4.726425]  c = 1\n",
      "   [4.036729, 4.003462]  c = 1\n",
      "   [4.444142, 4.365470]  c = 1\n",
      "   [2.185278, 3.713756]  c = 1\n",
      "   [3.794973, 3.905690]  c = 1\n",
      "   [3.103395, 3.426486]  c = 1\n",
      "   [2.420488, 2.703049]  c = 1\n",
      "   [0.828377, 2.793567]  c = 1\n",
      "   [3.828799, 4.498953]  c = 1\n",
      "   [0.908320, 0.639204]  c = 1\n",
      "   [2.692268, 3.184655]  c = 1\n",
      "   [1.792384, 4.305914]  c = 1\n",
      "   [0.466712, 2.272948]  c = 1\n",
      "Coeficientes a_i:\n",
      "   [[-0.92745415 -0.99939527 -0.90986043 -0.92791264 -0.92772247 -0.92772253\n",
      "  -0.92781858 -0.82395894 -0.92888657 -0.75012809 -0.92772425 -0.92782127\n",
      "  -0.90955498 -0.92775017 -0.92781858 -0.92770733 -0.92791677 -0.74969914\n",
      "  -0.92772505 -0.92790049 -0.927821   -0.92800256 -0.92795398 -0.92859537\n",
      "  -0.92770474 -0.92770515 -2.55903283  1.01701051  1.0716858   2.64811852\n",
      "   1.07219188  1.20573812  1.07232985  1.07218142  1.07218142  1.01751821\n",
      "   1.07348269  1.07237829  1.07110392  1.07252702  1.07227379  1.07103113\n",
      "   1.07252747  1.07233415  1.07254584  1.07227747  1.07207359  1.07219187\n",
      "   1.07203551  1.07155487]]\n",
      "Coeficiente b:\n",
      "   -0.0721738982672\n",
      "Score train = 1.000000\n",
      "Score test = 0.580000\n"
     ]
    },
    {
     "data": {
      "image/png": "[encoded data removed]",
      "text/plain": [
       "<matplotlib.figure.Figure at 0x7fc996731da0>"
      ]
     },
     "metadata": {},
     "output_type": "display_data"
    }
   ],
   "source": [
    "# Creación del problema, datos de entrenamiento y test:\n",
    "np.random.seed(300)\n",
    "n = 50\n",
    "model = 'rbf'\n",
    "ymargin = -0.5\n",
    "x, y = createDataSet(n, model, ymargin)\n",
    "xtest, ytest = createDataSet(n, model, ymargin)\n",
    "\n",
    "# Construcción del clasificador:\n",
    "clf = SVC(C=100, kernel='rbf', degree=1.0, coef0=1.0, gamma=100)\n",
    "clf.fit(x, y)  \n",
    "\n",
    "# Vectores de soporte:\n",
    "print(\"Vectores de soporte: %d\" % (len(clf.support_)))\n",
    "for i in clf.support_:\n",
    "    print(\"   [%f, %f]  c = %d\" % (x[i,0], x[i,1], y[i]))\n",
    "\n",
    "# Coeficientes a_i y b:\n",
    "print(\"Coeficientes a_i:\")\n",
    "print (\"  \", clf.dual_coef_)\n",
    "print(\"Coeficiente b:\")\n",
    "print (\"  \", clf.intercept_[0])\n",
    "\n",
    "# Calculo del acierto en los conjuntos de entrenamiento y test:\n",
    "score_train = clf.score(x, y)\n",
    "print(\"Score train = %f\" % (score_train))\n",
    "score_test = clf.score(xtest, ytest)\n",
    "print(\"Score test = %f\" % (score_test))\n",
    "\n",
    "# Gráficas:\n",
    "plt.figure(figsize=(12,6))\n",
    "\n",
    "plt.subplot(121)\n",
    "plotModel(x[:,0],x[:,1],y,clf,\"Training, score = %f\" % (score_train))\n",
    "for i in clf.support_:\n",
    "    if y[i] == -1:\n",
    "        plt.plot(x[i,0],x[i,1],'ro',ms=10)\n",
    "    else:\n",
    "        plt.plot(x[i,0],x[i,1],'bo',ms=10)\n",
    "\n",
    "plt.subplot(122)\n",
    "plotModel(xtest[:,0],xtest[:,1],ytest,clf,\"Test, score = %f\" % (score_test))"
   ]
  },
  {
   "cell_type": "markdown",
   "metadata": {},
   "source": [
    "#### Responde a las siguientes cuestiones:\n",
    "\n",
    "**(1)** Escribe la ecuación de la frontera de decisión para este problema como combinación lineal de las funciones de kernel sobre cada uno de los vectores de soporte. Ten en cuenta que los coeficientes $a_{i}$ son el producto de la clase del punto y su multiplicador de Lagrange correspondiente: $a_{i} = \\alpha_{i} t_{i}$. Por este motivo encontramos valores negativos.<br\\><br\\>\n",
    "La expresión que se nos pide sería la siguiente:\n",
    "\n",
    "$$\\sum_{i = 0}^{n} a_i k(x_i, \\vec{x}) + b $$\n",
    "\n",
    "**(2)** Con el conjunto de datos anterior, prueba a entrenar el clasificador con un parámetro *C* igual a 0.01. ¿Se siguen clasificando bien todos los patrones? ¿Qué ocurre con el margen? ¿Qué pasa si bajas aún más el valor de *C* hasta 0.001? ¿Qué pasa con el margen si aumentamos mucho el parámetro C? Razona tus respuestas.\n",
    "\n",
    "Realizamos experimetos con los siguientes parámetros:\n",
    "\n",
    "| *C* | Nº vec soporte | Training score | Test score |\n",
    "|-----|-------------------------------------------|\n",
    "| 0.00001  | 46 |  0.54 | 0.56 |\n",
    "| 0.001  | 46 |  0.56 | 0.56 |\n",
    "| 0.01  | 38 |  0.98 | 1.0 |\n",
    "| 10  | 3 | 1.0 | 1.0 |\n",
    "| 1000  | 3 | 1.0 | 1.0 |\n",
    "\n",
    "Como se puede ver en la tabla, parámetros de C extremos (tanto mínimos como máximos) experimentan un límite en los resultados. A partir de C = 10 y hacía valores mayores, el nº de vectores se estabiliza a 3 dando porcentajes de acierto tanto en test como resultado del 100%. Además, observando los límites, vemos como el margen se estabiliza hasta el que parece ser su valor mínimo y optimo.\n",
    "\n",
    "Por otro lado, en parámetros de C cada vez mas bajos, (0.001 o 0.0001) el número de vectores se dispara a 46, dando porcentajes de acierto cada vez peores hasta un 0.54 que pareciera ser su mínimo. El margen en este caso se hacía cada vez más amplio hasta estacionarse.\n",
    "\n",
    "**(3)** Genera un nuevo conjunto de datos manteniendo el modelo lineal pero cambiando el parámetro *ymargin* a -0.5. Como ves ahora el problema ya no es linealmente separable. Prueba a resolverlo con el clasificador inicial (con *C=10*) y luego prueba otros valores de C. ¿Qué ocurre con valores altos de *C*? ¿Y con valores bajos? ¿Qué ocurre con los vectores de soporte? \n",
    "\n",
    "Se han realizado los siguientes experimentos:\n",
    "\n",
    "| *C* | Nº vec soporte | Training score | Test score |\n",
    "|-----|-------------------------------------------|\n",
    "| 0.00001  | 46 |  0.76 | 0.80 |\n",
    "| 0.01  | 46 |  0.76 | 0.80 |\n",
    "| 1  | 22|  0.82 | 0.90 |\n",
    "| 10  | 19| 0.84 | 0.90 |\n",
    "| 1000  | 19| 0.84 | 0.90 |\n",
    "\n",
    "AL igual que se han visto en el punto anterior, tanto como para valores altos como para valores bajos se alcanza un límite en el cual el número de vectores y las tasas de acierto se estacionan. \n",
    "\n",
    "Las diferencias principales respecto al problema lineal son que, por un lado las tasas de acierto no son tan amplias (0.9 como máximo en test y 0.84 en training) debido a la complejidad de alcanzar solución y que los márgenes no están tan centrados respecto al punto de origen.\n",
    "\n",
    "**(4)** Haz pruebas utilizando un kernel gausiano y variando los parámetros *C* y *gamma*. Comenta los resultados.\n",
    "\n",
    "Se han realizado los siguientes experimentos:\n",
    "\n",
    "| *C* | *gamma* | Nº vec soporte | Training score | Test score |\n",
    "|-----|-------------------------------------------|\n",
    "| 1  | 0.1 | 29 | 0.86 | 0.92 |\n",
    "| 100  | 0.1 | 17 | 0.90 | 0.88 |\n",
    "| 1000  | 0.1 | 19 | 0.92 | 0.92 |\n",
    "| 1  | 0.01 | 42 | 0.80 | 0.82 |\n",
    "| 100  | 0.01 | 17 | 0.84 | 0.92 |\n",
    "| 1000  | 0.01 | 16 | 0.88 | 0.92 |\n",
    "| 1000  | 1 | 19 | 0.96 | 0.86 |\n",
    "| 1000  | 100 | 19 | 1.0 | 0.58 |\n",
    "\n",
    "Como conclusión podemos desarrollar que al igual que en casos anteriores, el parámetro C influye siendo peor cuanto más bajo sea. Como dato interesante de estos resultados, ver como domina el parámetro sigma del kernel gaussiano. Según vemos, un valor gamma igual a 1 parece que ofrece la mejor solución. También vemos que si disparamos este valor, el algoritmo sufre de sobreaprendizaje dando una tasa del 100% en training pero una pobre tasa del 56% en test."
   ]
  }
 ],
 "metadata": {
  "kernelspec": {
   "display_name": "Python 3",
   "language": "python",
   "name": "python3"
  },
  "language_info": {
   "codemirror_mode": {
    "name": "ipython",
    "version": 3
   },
   "file_extension": ".py",
   "mimetype": "text/x-python",
   "name": "python",
   "nbconvert_exporter": "python",
   "pygments_lexer": "ipython3",
   "version": "3.6.3"
  }
 },
 "nbformat": 4,
 "nbformat_minor": 1
}
