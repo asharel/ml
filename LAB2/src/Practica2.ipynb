{
 "cells": [
  {
   "cell_type": "markdown",
   "metadata": {},
   "source": [
    "# Práctica 2\n",
    "## Desarrollado por Sara Pérez y Cristian Fernández\n",
    "## 21 de Octubre de 2017\n",
    "## Aprendizaje automático, EPS, UAM (Madrid)\n",
    "## Introducción\n",
    "XXXXXXXXXXXXXXXXXXXXXXXXXXXXX\n",
    "## Objetivo\n",
    "xxxxxxxxxxxxxxxxxxxxxxxxxxxxxxx\n",
    "\n",
    "## Trabajo Desarrollado\n",
    "xxxxxxxxxxxxxxxxxxxxxxxxxxxxxxxx\n",
    "\n",
    "### Cargando librerias"
   ]
  },
  {
   "cell_type": "code",
   "execution_count": 2,
   "metadata": {
    "collapsed": true,
    "scrolled": true
   },
   "outputs": [],
   "source": [
    "#Libraries\n",
    "\n",
    "import numpy as np # linear algebra\n",
    "import pandas as pd # data processing, CSV file I/O (e.g. pd.read_csv)\n",
    "import matplotlib.pyplot as plt# Read Dataset\n",
    "\n",
    "%matplotlib inline\n"
   ]
  },
  {
   "cell_type": "markdown",
   "metadata": {},
   "source": [
    "### Simplifación de datos\n",
    "#### Cargar datos"
   ]
  },
  {
   "cell_type": "code",
   "execution_count": 25,
   "metadata": {},
   "outputs": [],
   "source": [
    "#Path para linux\n",
    "#path = '../Recursos/indian_liver_patient.csv'\n",
    "path = '/media/cristian/2DA699E5347481F7/Users/Cristian/Dropbox/Universidad/Master/1ºCuatrimestre/Practicas/ML/LAB2/Recursos/indian_liver_patient.csv'\n",
    "\n",
    "\n",
    "#Path para Windows\n",
    "#path = '..\\Recursos\\indian_liver_patient.csv'\n",
    "dataset = pd.read_csv(path,delimiter=',',header=0)\n",
    "\n",
    "# Transformación de valores a binario\n",
    "dataset.replace(\"Male\",0, True)\n",
    "dataset.replace(\"Female\",1,True)\n",
    "\n",
    "# Eliminación de Missing values\n",
    "dataset.dropna()\n",
    "\n",
    "# División aleatorioa 70 Traning 30 Test\n",
    "msk = np.random.rand(len(dataset)) < 0.7\n",
    "\n",
    "data_train = dataset[msk]\n",
    "data_test = dataset[~msk]\n"
   ]
  },
  {
   "cell_type": "code",
   "execution_count": 10,
   "metadata": {
    "collapsed": true
   },
   "outputs": [],
   "source": []
  },
  {
   "cell_type": "code",
   "execution_count": 4,
   "metadata": {},
   "outputs": [],
   "source": []
  },
  {
   "cell_type": "code",
   "execution_count": null,
   "metadata": {},
   "outputs": [],
   "source": []
  }
 ],
 "metadata": {
  "kernelspec": {
   "display_name": "Python 3",
   "language": "python",
   "name": "python3"
  },
  "language_info": {
   "codemirror_mode": {
    "name": "ipython",
    "version": 3
   },
   "file_extension": ".py",
   "mimetype": "text/x-python",
   "name": "python",
   "nbconvert_exporter": "python",
   "pygments_lexer": "ipython3",
   "version": "3.6.2"
  }
 },
 "nbformat": 4,
 "nbformat_minor": 2
}
