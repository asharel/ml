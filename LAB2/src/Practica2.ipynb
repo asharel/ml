{
 "cells": [
  {
   "cell_type": "markdown",
   "metadata": {},
   "source": [
    "# Práctica 2\n",
    "## Desarrollado por Sara Pérez y Cristian Fernández\n",
    "## 21 de Octubre de 2017\n",
    "## Aprendizaje automático, EPS, UAM (Madrid)\n",
    "## Introducción\n",
    "XXXXXXXXXXXXXXXXXXXXXXXXXXXXX\n",
    "## Objetivo\n",
    "xxxxxxxxxxxxxxxxxxxxxxxxxxxxxxx\n",
    "\n",
    "## Trabajo Desarrollado\n",
    "xxxxxxxxxxxxxxxxxxxxxxxxxxxxxxxx\n",
    "\n",
    "### Cargando librerias"
   ]
  },
  {
   "cell_type": "code",
   "execution_count": 35,
   "metadata": {
    "collapsed": true,
    "scrolled": true
   },
   "outputs": [],
   "source": [
    "#Libraries\n",
    "\n",
    "import numpy as np # linear algebra\n",
    "import pandas as pd # data processing, CSV file I/O (e.g. pd.read_csv)\n",
    "import matplotlib.pyplot as plt# Read Dataset\n",
    "from sklearn.model_selection import train_test_split\n",
    "import sklearn.feature_selection as FS\n",
    "%matplotlib inline\n"
   ]
  },
  {
   "cell_type": "markdown",
   "metadata": {},
   "source": [
    "### Simplifación de datos\n",
    "#### Cargar datos"
   ]
  },
  {
   "cell_type": "code",
   "execution_count": 29,
   "metadata": {},
   "outputs": [],
   "source": [
    "#Path para linux\n",
    "path = '../Recursos/indian_liver_patient.csv'\n",
    "#path = '/media/cristian/2DA699E5347481F7/Users/Cristian/Dropbox/Universidad/Master/1ºCuatrimestre/Practicas/ML/LAB2/Recursos/indian_liver_patient.csv'\n",
    "\n",
    "\n",
    "#Path para Windows\n",
    "#path = '..\\Recursos\\indian_liver_patient.csv'\n",
    "dataset = pd.read_csv(path,delimiter=',',header=0)\n",
    "\n",
    "# Transformación de valores a binario\n",
    "dataset.replace(\"Male\",0, True)\n",
    "dataset.replace(\"Female\",1,True)\n",
    "\n",
    "# Eliminación de Missing values\n",
    "dataset=dataset.dropna()\n",
    "\n",
    "#Modificamos la clase, para que la clase pase de 1-2 a 0-1\n",
    "dataset['Dataset']=dataset['Dataset']-1\n",
    "\n",
    "# División aleatorioa 70 Traning 30 Test\n",
    "#msk = np.random.rand(len(dataset)) < 0.7\n",
    "#data_train = dataset[msk]\n",
    "#data_test = dataset[~msk]\n",
    "#data_test\n",
    "\n",
    "train_test=train_test_split(dataset, test_size=0.3)\n",
    "train=train_test[0]\n",
    "test=train_test[1]\n"
   ]
  },
  {
   "cell_type": "code",
   "execution_count": 31,
   "metadata": {},
   "outputs": [],
   "source": [
    "def zScore(var):\n",
    "    return (var-var.mean())/var.std()\n",
    "def minMax(var):\n",
    "    return (var-var.min())/(var.max()-var.min())\n",
    "\n",
    "\n",
    "#Normalizamos las variables (habrá casos en los que no se puedan usar normalizadas)\n",
    "testNorm=test.copy()\n",
    "trainNorm=train.copy()\n",
    "\n",
    "testNorm['Albumin']=zScore(testNorm['Albumin'])\n",
    "trainNorm['Albumin']=zScore(trainNorm['Albumin'])\n",
    "\n",
    "testNorm['Total_Protiens']=zScore(testNorm['Total_Protiens'])\n",
    "trainNorm['Total_Protiens']=zScore(trainNorm['Total_Protiens'])\n",
    "\n",
    "testNorm['Total_Bilirubin']=minMax(testNorm['Total_Bilirubin'])\n",
    "trainNorm['Total_Bilirubin']=minMax(trainNorm['Total_Bilirubin'])\n",
    "\n",
    "testNorm['Direct_Bilirubin']=minMax(testNorm['Direct_Bilirubin'])\n",
    "trainNorm['Direct_Bilirubin']=minMax(trainNorm['Direct_Bilirubin'])\n",
    "\n",
    "testNorm['Alkaline_Phosphotase']=minMax(testNorm['Alkaline_Phosphotase'])\n",
    "trainNorm['Alkaline_Phosphotase']=minMax(trainNorm['Alkaline_Phosphotase'])\n",
    "\n",
    "testNorm['Alamine_Aminotransferase']=minMax(testNorm['Alamine_Aminotransferase'])\n",
    "trainNorm['Alamine_Aminotransferase']=minMax(trainNorm['Alamine_Aminotransferase'])\n",
    "\n",
    "testNorm['Aspartate_Aminotransferase']=minMax(testNorm['Aspartate_Aminotransferase'])\n",
    "trainNorm['Aspartate_Aminotransferase']=minMax(trainNorm['Aspartate_Aminotransferase'])\n",
    "\n",
    "testNorm['Albumin_and_Globulin_Ratio']=minMax(testNorm['Albumin_and_Globulin_Ratio'])\n",
    "trainNorm['Albumin_and_Globulin_Ratio']=minMax(trainNorm['Albumin_and_Globulin_Ratio'])\n"
   ]
  },
  {
   "cell_type": "code",
   "execution_count": 33,
   "metadata": {},
   "outputs": [
    {
     "data": {
      "text/html": [
       "<div>\n",
       "<style>\n",
       "    .dataframe thead tr:only-child th {\n",
       "        text-align: right;\n",
       "    }\n",
       "\n",
       "    .dataframe thead th {\n",
       "        text-align: left;\n",
       "    }\n",
       "\n",
       "    .dataframe tbody tr th {\n",
       "        vertical-align: top;\n",
       "    }\n",
       "</style>\n",
       "<table border=\"1\" class=\"dataframe\">\n",
       "  <thead>\n",
       "    <tr style=\"text-align: right;\">\n",
       "      <th></th>\n",
       "      <th>Age</th>\n",
       "      <th>Gender</th>\n",
       "      <th>Total_Bilirubin</th>\n",
       "      <th>Direct_Bilirubin</th>\n",
       "      <th>Alkaline_Phosphotase</th>\n",
       "      <th>Alamine_Aminotransferase</th>\n",
       "      <th>Aspartate_Aminotransferase</th>\n",
       "      <th>Total_Protiens</th>\n",
       "      <th>Albumin</th>\n",
       "      <th>Albumin_and_Globulin_Ratio</th>\n",
       "    </tr>\n",
       "  </thead>\n",
       "  <tbody>\n",
       "    <tr>\n",
       "      <th>159</th>\n",
       "      <td>50</td>\n",
       "      <td>0</td>\n",
       "      <td>0.016548</td>\n",
       "      <td>0.015306</td>\n",
       "      <td>0.106986</td>\n",
       "      <td>0.013065</td>\n",
       "      <td>0.007493</td>\n",
       "      <td>0.697087</td>\n",
       "      <td>0.985457</td>\n",
       "      <td>0.363636</td>\n",
       "    </tr>\n",
       "    <tr>\n",
       "      <th>530</th>\n",
       "      <td>22</td>\n",
       "      <td>1</td>\n",
       "      <td>0.014184</td>\n",
       "      <td>0.010204</td>\n",
       "      <td>0.036639</td>\n",
       "      <td>0.002010</td>\n",
       "      <td>0.003747</td>\n",
       "      <td>0.512805</td>\n",
       "      <td>0.861046</td>\n",
       "      <td>0.363636</td>\n",
       "    </tr>\n",
       "    <tr>\n",
       "      <th>525</th>\n",
       "      <td>53</td>\n",
       "      <td>1</td>\n",
       "      <td>0.009456</td>\n",
       "      <td>0.005102</td>\n",
       "      <td>0.071812</td>\n",
       "      <td>0.012563</td>\n",
       "      <td>0.007493</td>\n",
       "      <td>1.434216</td>\n",
       "      <td>0.985457</td>\n",
       "      <td>0.272727</td>\n",
       "    </tr>\n",
       "    <tr>\n",
       "      <th>42</th>\n",
       "      <td>42</td>\n",
       "      <td>0</td>\n",
       "      <td>0.148936</td>\n",
       "      <td>0.158163</td>\n",
       "      <td>0.276991</td>\n",
       "      <td>0.007538</td>\n",
       "      <td>0.012602</td>\n",
       "      <td>-0.316465</td>\n",
       "      <td>-1.005117</td>\n",
       "      <td>0.136364</td>\n",
       "    </tr>\n",
       "    <tr>\n",
       "      <th>440</th>\n",
       "      <td>49</td>\n",
       "      <td>1</td>\n",
       "      <td>0.007092</td>\n",
       "      <td>0.005102</td>\n",
       "      <td>0.065950</td>\n",
       "      <td>0.006533</td>\n",
       "      <td>0.003406</td>\n",
       "      <td>0.512805</td>\n",
       "      <td>1.483100</td>\n",
       "      <td>0.545455</td>\n",
       "    </tr>\n",
       "  </tbody>\n",
       "</table>\n",
       "</div>"
      ],
      "text/plain": [
       "     Age  Gender  Total_Bilirubin  Direct_Bilirubin  Alkaline_Phosphotase  \\\n",
       "159   50       0         0.016548          0.015306              0.106986   \n",
       "530   22       1         0.014184          0.010204              0.036639   \n",
       "525   53       1         0.009456          0.005102              0.071812   \n",
       "42    42       0         0.148936          0.158163              0.276991   \n",
       "440   49       1         0.007092          0.005102              0.065950   \n",
       "\n",
       "     Alamine_Aminotransferase  Aspartate_Aminotransferase  Total_Protiens  \\\n",
       "159                  0.013065                    0.007493        0.697087   \n",
       "530                  0.002010                    0.003747        0.512805   \n",
       "525                  0.012563                    0.007493        1.434216   \n",
       "42                   0.007538                    0.012602       -0.316465   \n",
       "440                  0.006533                    0.003406        0.512805   \n",
       "\n",
       "      Albumin  Albumin_and_Globulin_Ratio  \n",
       "159  0.985457                    0.363636  \n",
       "530  0.861046                    0.363636  \n",
       "525  0.985457                    0.272727  \n",
       "42  -1.005117                    0.136364  \n",
       "440  1.483100                    0.545455  "
      ]
     },
     "execution_count": 33,
     "metadata": {},
     "output_type": "execute_result"
    }
   ],
   "source": [
    "#Separamos la variable target del resto\n",
    "train_Y=train[\"Dataset\"]\n",
    "train_X=train.drop(\"Dataset\",1)\n",
    "trainNorm_X=trainNorm.drop(\"Dataset\",1)\n",
    "\n",
    "test_Y=test[\"Dataset\"]\n",
    "test_X=test.drop(\"Dataset\",1)\n",
    "testNorm_X=testNorm.drop(\"Dataset\",1)\n",
    "trainNorm_X.head()"
   ]
  },
  {
   "cell_type": "code",
   "execution_count": 62,
   "metadata": {},
   "outputs": [
    {
     "name": "stdout",
     "output_type": "stream",
     "text": [
      "[ 0.02993809  0.03041417  0.02184565  0.05289082  0.02840457  0.07003895\n",
      "  0.04189786  0.          0.02132059  0.        ]\n",
      "Index(['Age', 'Gender', 'Total_Bilirubin', 'Direct_Bilirubin',\n",
      "       'Alkaline_Phosphotase', 'Alamine_Aminotransferase',\n",
      "       'Aspartate_Aminotransferase', 'Total_Protiens', 'Albumin',\n",
      "       'Albumin_and_Globulin_Ratio'],\n",
      "      dtype='object')\n",
      "[5 3 6 1 0 4 2 8 9 7]\n"
     ]
    },
    {
     "name": "stderr",
     "output_type": "stream",
     "text": [
      "C:\\ProgramData\\Anaconda3\\lib\\site-packages\\sklearn\\utils\\validation.py:444: DataConversionWarning: Data with input dtype int64 was converted to float64 by the scale function.\n",
      "  warnings.warn(msg, DataConversionWarning)\n"
     ]
    },
    {
     "data": {
      "text/plain": [
       "Index(['Alamine_Aminotransferase', 'Direct_Bilirubin',\n",
       "       'Aspartate_Aminotransferase', 'Gender', 'Age', 'Alkaline_Phosphotase',\n",
       "       'Total_Bilirubin', 'Albumin', 'Albumin_and_Globulin_Ratio',\n",
       "       'Total_Protiens'],\n",
       "      dtype='object')"
      ]
     },
     "execution_count": 62,
     "metadata": {},
     "output_type": "execute_result"
    }
   ],
   "source": [
    "mi_regr = FS.mutual_info_regression(trainNorm_X, train_Y)\n",
    "print(mi_regr)\n",
    "names=trainNorm_X.axes[1]\n",
    "print (names)\n",
    "indice_regr=np.argsort(mi_regr)[::-1]\n",
    "print(indice_regr)\n",
    "#print(names)\n",
    "names[indice_regr]"
   ]
  },
  {
   "cell_type": "code",
   "execution_count": 64,
   "metadata": {},
   "outputs": [
    {
     "name": "stdout",
     "output_type": "stream",
     "text": [
      "[  3.32043371e+01   1.48928509e+00   2.08861790e+02   1.33759653e+02\n",
      "   3.39179768e+03   3.97801779e+03   5.48023693e+03   1.26999971e-01\n",
      "   1.59626849e+00   7.92563687e-01]\n",
      "[6 5 4 2 3 0 8 1 9 7]\n",
      "Index(['Aspartate_Aminotransferase', 'Alamine_Aminotransferase',\n",
      "       'Alkaline_Phosphotase', 'Total_Bilirubin', 'Direct_Bilirubin', 'Age',\n",
      "       'Albumin', 'Gender', 'Albumin_and_Globulin_Ratio', 'Total_Protiens'],\n",
      "      dtype='object')\n"
     ]
    }
   ],
   "source": [
    "#EN chi^2 no se pueden usar valores negativos, por lo que no se pueden usar los datos normalizados \n",
    "chi = FS.chi2(X = train_X, y = train_Y)[0]\n",
    "print(chi)\n",
    "indice_chi=np.argsort(chi)[::-1]\n",
    "print(indice_chi)\n",
    "print(names[indice_chi])"
   ]
  },
  {
   "cell_type": "code",
   "execution_count": null,
   "metadata": {
    "collapsed": true
   },
   "outputs": [],
   "source": []
  }
 ],
 "metadata": {
  "kernelspec": {
   "display_name": "Python 3",
   "language": "python",
   "name": "python3"
  },
  "language_info": {
   "codemirror_mode": {
    "name": "ipython",
    "version": 3
   },
   "file_extension": ".py",
   "mimetype": "text/x-python",
   "name": "python",
   "nbconvert_exporter": "python",
   "pygments_lexer": "ipython3",
   "version": "3.6.2"
  }
 },
 "nbformat": 4,
 "nbformat_minor": 2
}
