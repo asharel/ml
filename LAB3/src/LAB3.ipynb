{
 "cells": [
  {
   "cell_type": "code",
   "execution_count": 4,
   "metadata": {
    "collapsed": true
   },
   "outputs": [],
   "source": [
    "# Base de datos y kernel de lectura y visualización de la base de datos obtenidos de:\n",
    "#\n",
    "# https://www.kaggle.com/kmader/lungnodemalignancy\n",
    "\n",
    "import os\n",
    "import numpy as np\n",
    "#from tqdm import tqdm\n",
    "import matplotlib.pyplot as plt\n",
    "from skimage.util.montage import montage2d\n",
    "from skimage.color import label2rgb\n",
    "import h5py\n",
    "\n",
    "%matplotlib inline"
   ]
  },
  {
   "cell_type": "code",
   "execution_count": 5,
   "metadata": {},
   "outputs": [
    {
     "name": "stdout",
     "output_type": "stream",
     "text": [
      "shape of all_slices: (6691, 64, 64)\n",
      "shape of classes:    (6691, 1)\n"
     ]
    }
   ],
   "source": [
    "data_path = os.path.join('data')\n",
    "\n",
    "with h5py.File(os.path.join(data_path, 'all_patches.hdf5'), 'r') as luna_h5:\n",
    "    all_slices = luna_h5['ct_slices'].value\n",
    "    all_classes = luna_h5['slice_class'].value\n",
    "    print('shape of all_slices:', all_slices.shape)\n",
    "    print('shape of classes:   ', all_classes.shape)\n",
    "    np.expand_dims(all_slices,-1)"
   ]
  },
  {
   "cell_type": "markdown",
   "metadata": {},
   "source": [
    "### Datos de partida:"
   ]
  },
  {
   "cell_type": "markdown",
   "metadata": {},
   "source": [
    "**¿Cuántas clases hay? ¿Cuántos ejemplos de cada?**\n",
    "\n",
    "Hay dos clases en nuestro grupo de datos, muestras malignas y muestras benignas, que se representan el las imagenes de la celda 4.\n",
    "Tenemos 6691 muestras de las cuales 4165 (62.25%) benignas y 2526 (37,75%) malignas."
   ]
  },
  {
   "cell_type": "code",
   "execution_count": 7,
   "metadata": {},
   "outputs": [
    {
     "name": "stdout",
     "output_type": "stream",
     "text": [
      "benign=> 4165\n",
      "malignant=> 2526\n"
     ]
    }
   ],
   "source": [
    "print ('benign=>', (all_classes<0.5).sum())\n",
    "print ('malignant=>', (all_classes>0.5).sum())"
   ]
  },
  {
   "cell_type": "markdown",
   "metadata": {},
   "source": [
    "**¿Cuál es el acierto mínimo esperado?**\n",
    "\n",
    "El acierto mínomo de esperado será que clasifique todas las muestras en una sola clase..."
   ]
  },
  {
   "cell_type": "markdown",
   "metadata": {},
   "source": [
    "**¿Cómo se normalizan las imágenes de entrada? ¿se te ocurre una opción mejor? Si es así, ¿cuál? Prúebala**\n",
    "\n",
    "Los datos se han normalizan usando la siguiente sentencia:\n",
    "\n",
    "*X_vec = (np.expand_dims(all_slices,-1) - np.mean(all_slices))/np.std(all_slices)*\n",
    "\n",
    "Es decir usa la normalización de Z-core: $x'=\\frac{x-\\mu}{\\sigma}$, que normaliza los datos a valores entre -1 y 1, útil en casos de que los datos sigan una distribución normal, otra posible forma de normalizar sería user la normalización a escala decimal, $x'=\\frac{x}{10^j}$ donde $max(x')<1$"
   ]
  },
  {
   "cell_type": "code",
   "execution_count": 20,
   "metadata": {},
   "outputs": [
    {
     "data": {
      "text/plain": [
       "0"
      ]
     },
     "execution_count": 20,
     "metadata": {},
     "output_type": "execute_result"
    }
   ],
   "source": [
    "X_vec = (np.expand_dims(all_slices,-1) /(10**4))\n",
    "(X_vec>1).sum()"
   ]
  },
  {
   "cell_type": "code",
   "execution_count": 23,
   "metadata": {},
   "outputs": [
    {
     "name": "stderr",
     "output_type": "stream",
     "text": [
      "C:\\ProgramData\\Anaconda3\\lib\\site-packages\\sklearn\\model_selection\\_split.py:2010: FutureWarning: From version 0.21, test_size will always complement train_size unless both are specified.\n",
      "  FutureWarning)\n"
     ]
    },
    {
     "name": "stdout",
     "output_type": "stream",
     "text": [
      "X_train shape: (5018, 64, 64, 1)\n",
      "X_tr shape:    (5018, 4096)\n",
      "X_test shape:  (1673, 64, 64, 1)\n",
      "X_te shape:    (1673, 4096)\n"
     ]
    },
    {
     "data": {
      "text/plain": [
       "LogisticRegression(C=1.0, class_weight=None, dual=False, fit_intercept=True,\n",
       "          intercept_scaling=1, max_iter=100, multi_class='ovr', n_jobs=1,\n",
       "          penalty='l2', random_state=None, solver='liblinear', tol=0.0001,\n",
       "          verbose=0, warm_start=False)"
      ]
     },
     "execution_count": 23,
     "metadata": {},
     "output_type": "execute_result"
    }
   ],
   "source": [
    "from sklearn.model_selection import train_test_split\n",
    "from keras.utils.np_utils import to_categorical\n",
    "\n",
    "X_vec = (np.expand_dims(all_slices,-1) - np.mean(all_slices))/np.std(all_slices)\n",
    "\n",
    "y_vec = to_categorical(all_classes)\n",
    "X_train, X_test, y_train, y_test = train_test_split(X_vec, y_vec, \n",
    "                                                   train_size = 0.75,\n",
    "                                                   random_state = 1, \n",
    "                                                   stratify = all_classes)\n",
    "\n",
    "X_tr = np.zeros((np.shape(X_train)[0], np.shape(X_train)[1]*np.shape(X_train)[2]))\n",
    "for i in range(np.shape(X_train)[0]):\n",
    "    X_tr[i] = X_train[i].flatten()\n",
    "X_te = np.zeros((np.shape(X_test)[0], np.shape(X_test)[1]*np.shape(X_test)[2]))\n",
    "for i in range(np.shape(X_test)[0]):\n",
    "    X_te[i] = X_test[i].flatten()\n",
    "\n",
    "print(\"X_train shape:\", np.shape(X_train))\n",
    "print(\"X_tr shape:   \", np.shape(X_tr))\n",
    "print(\"X_test shape: \", np.shape(X_test))\n",
    "print(\"X_te shape:   \", np.shape(X_te))\n",
    "\n",
    "from sklearn.linear_model import LogisticRegression\n",
    "\n",
    "model2 = LogisticRegression()\n",
    "\n",
    "model2.fit(X_tr, np.argmax(y_train,1))"
   ]
  },
  {
   "cell_type": "markdown",
   "metadata": {
    "collapsed": true
   },
   "source": [
    "**¿Cuál es el formato de las imágenes de entrada (dimensiones)? ¿Por qué es necesario hacer la operación flatten en dichas imágenes para aplicar la regresión logística?**\n",
    "\n",
    "Los datos de entrada tiene una dimension de 64X64, al hacer la operación flatten los transformamos en dimension 4096x1. La función de regresión logistica espera matrices de un máximo de dos dimensiones nº de *ejemplo*x4096 (nº de variables), mientras tal y como tenemos los datos, tenemos matrices de 4 dimensiones *nº de ejemplo*x64x64x1 "
   ]
  },
  {
   "cell_type": "markdown",
   "metadata": {},
   "source": [
    "### Modelo simple"
   ]
  },
  {
   "cell_type": "markdown",
   "metadata": {},
   "source": [
    "**¿Cuántos parámetros libres tiene la regresión logística?**\n",
    "\n",
    "////////Yo diria que 4096, pero no estoy segura///////////"
   ]
  },
  {
   "cell_type": "markdown",
   "metadata": {},
   "source": [
    "**¿qué resultados da tras el entrenamiento? ¿produce sobreajuste?**\n",
    "\n",
    "A continuación se muestran los resultados de precesión para los datos de train y de test, como vemos hay una diferencia notable entre la precisión de los datos de train y la de los datos de test, siendo mejor el valor en el primer caso. Esto nos indica que el entrenamiento de la regresión logistica está produciendo sobreajuste."
   ]
  },
  {
   "cell_type": "code",
   "execution_count": 25,
   "metadata": {},
   "outputs": [
    {
     "name": "stdout",
     "output_type": "stream",
     "text": [
      "Train accuracy: 0.989039457951\n",
      "Test accuracy : 0.744172145846\n"
     ]
    }
   ],
   "source": [
    "print('Train accuracy:', model2.score(X_tr, np.argmax(y_train,1)))\n",
    "print('Test accuracy :', model2.score(X_te, np.argmax(y_test,1)))"
   ]
  },
  {
   "cell_type": "markdown",
   "metadata": {},
   "source": [
    "** ¿qué puedes concluir sobre dicho modelo a través de su curva ROC? **\n",
    "\n",
    "La curva ROC que se muestra, a continuación, es una valor justo (pues está en 0.78, entre 0.7 y 0.8), y por lo tanto no es una buena clasificación"
   ]
  },
  {
   "cell_type": "code",
   "execution_count": 24,
   "metadata": {},
   "outputs": [
    {
     "name": "stdout",
     "output_type": "stream",
     "text": [
      "\n",
      "             precision    recall  f1-score   support\n",
      "\n",
      "          0       0.80      0.78      0.79      1041\n",
      "          1       0.65      0.69      0.67       632\n",
      "\n",
      "avg / total       0.75      0.74      0.75      1673\n",
      "\n"
     ]
    },
    {
     "data": {
      "image/png": "[encoded data removed]",
      "text/plain": [
       "<matplotlib.figure.Figure at 0x20ac5344470>"
      ]
     },
     "metadata": {},
     "output_type": "display_data"
    }
   ],
   "source": [
    "from sklearn.metrics import classification_report, roc_curve, auc\n",
    "\n",
    "print('')\n",
    "print(classification_report(np.argmax(y_test,1),\n",
    "                            model2.predict(X_te)))\n",
    "\n",
    "fpr, tpr, thresholds = roc_curve(np.argmax(y_test, 1), model2.predict_proba(X_te)[:,1])\n",
    "fig, ax1 = plt.subplots(1,1)\n",
    "ax1.plot(fpr, tpr, 'r-.', label = 'Simple model (%2.2f)' % auc(fpr, tpr))\n",
    "ax1.set_xlabel('False Positive Rate')\n",
    "ax1.set_ylabel('True Positive Rate')\n",
    "ax1.plot(fpr, fpr, 'b-', label = 'Random Guess')\n",
    "ax1.legend()\n",
    "plt.show()"
   ]
  },
  {
   "cell_type": "markdown",
   "metadata": {},
   "source": [
    "** ¿qué ocurre si la curva ROC se calcula con los datos de entrenamiento? ¿sale mejor? ¿por qué? **\n",
    "\n",
    "Como vemos, en la curva ROC de los datos de entrenamiento, es excelente (es 1), por lo tanto si sale mucho mejor, esto se debe a que como está sobreajustando los datos de entrenemiento, es decir se los aprende de memoria, posteriormente los clasifica casi perfectamente, dejando una curva ROC óptima"
   ]
  },
  {
   "cell_type": "code",
   "execution_count": 26,
   "metadata": {},
   "outputs": [
    {
     "name": "stdout",
     "output_type": "stream",
     "text": [
      "\n",
      "             precision    recall  f1-score   support\n",
      "\n",
      "          0       0.80      0.78      0.79      1041\n",
      "          1       0.65      0.69      0.67       632\n",
      "\n",
      "avg / total       0.75      0.74      0.75      1673\n",
      "\n"
     ]
    },
    {
     "data": {
      "image/png": "[encoded data removed]",
      "text/plain": [
       "<matplotlib.figure.Figure at 0x20ac5344438>"
      ]
     },
     "metadata": {},
     "output_type": "display_data"
    }
   ],
   "source": [
    "from sklearn.metrics import classification_report, roc_curve, auc\n",
    "\n",
    "print('')\n",
    "print(classification_report(np.argmax(y_test,1),\n",
    "                            model2.predict(X_te)))\n",
    "\n",
    "fpr, tpr, thresholds = roc_curve(np.argmax(y_train, 1), model2.predict_proba(X_tr)[:,1])\n",
    "fig, ax1 = plt.subplots(1,1)\n",
    "ax1.plot(fpr, tpr, 'r-.', label = 'Simple model (%2.2f)' % auc(fpr, tpr))\n",
    "ax1.set_xlabel('False Positive Rate')\n",
    "ax1.set_ylabel('True Positive Rate')\n",
    "ax1.plot(fpr, fpr, 'b-', label = 'Random Guess')\n",
    "ax1.legend()\n",
    "plt.show()"
   ]
  },
  {
   "cell_type": "markdown",
   "metadata": {},
   "source": [
    "### Modelo CNN básico"
   ]
  },
  {
   "cell_type": "code",
   "execution_count": 27,
   "metadata": {
    "collapsed": true
   },
   "outputs": [],
   "source": [
    "from keras.models import Sequential, load_model\n",
    "from keras.layers import Dense, Dropout, Flatten, Conv2D, MaxPooling2D\n",
    "from keras import backend as K\n",
    "from keras.losses import binary_crossentropy\n",
    "from keras import optimizers\n",
    "\n",
    "from IPython.display import SVG\n",
    "from keras.utils.vis_utils import model_to_dot"
   ]
  },
  {
   "cell_type": "code",
   "execution_count": 28,
   "metadata": {},
   "outputs": [
    {
     "name": "stdout",
     "output_type": "stream",
     "text": [
      "X_train shape: (5018, 64, 64, 1)\n",
      "X_test shape:  (1673, 64, 64, 1)\n",
      "y_train shape: (5018, 2)\n",
      "y_test shape:  (1673, 2)\n"
     ]
    }
   ],
   "source": [
    "print(\"X_train shape:\", np.shape(X_train))\n",
    "print(\"X_test shape: \", np.shape(X_test))\n",
    "print(\"y_train shape:\", np.shape(y_train))\n",
    "print(\"y_test shape: \", np.shape(y_test))"
   ]
  },
  {
   "cell_type": "markdown",
   "metadata": {},
   "source": [
    "** ¿Cuántos parámetros libres tiene en total cada capa del modelo? Comprueba que estos números coinciden con lo que te esperarías explicando y computando la cuenta que harías. **"
   ]
  },
  {
   "cell_type": "markdown",
   "metadata": {},
   "source": [
    "**¿Por qué la salida de la primera capa Conv2D es 62x62x32 y no 64x64x32? ¿y por qué no es 64x64x1?**\n",
    "\n",
    "El tamaño de la salida en la primera capa Conv2D es 62x62x32 en lugar de 64x64x32 debido al tamaño del kernel (3x3). El tamaño de la salida se reduce el tamaño del kernel menos uno, para cada dimension, así pues, para que fuera 64x64x32, el tamaño del kernel debería ser 1x1. El último valor indica el tamaño del espacio de salida o número de neuronas de la capa, que se indica cuando se llama a la función (el primer parámetro):\n",
    "\n",
    "model.add(Conv2D(32, kernel_size=(3, 3),\n",
    "                 activation='relu',\n",
    "                 input_shape=input_shape))\n",
    "                 \n",
    "Si queremos que sea 1, tan solo hay que indicarlo aquí. \n",
    "\n",
    "** ¿qué puedes hacer para que su salida sea 64x64x32?**\n",
    "\n",
    "Modificar los paramentros de la función de la siguiente manera, a continuación, en la siguiente celda hay un ejemplo:\n",
    "\n",
    "model.add(Conv2D(32, kernel_size=(1, 1),\n",
    "                 activation='relu',\n",
    "                 input_shape=input_shape))\n",
    "\n"
   ]
  },
  {
   "cell_type": "code",
   "execution_count": 48,
   "metadata": {},
   "outputs": [
    {
     "name": "stdout",
     "output_type": "stream",
     "text": [
      "_________________________________________________________________\n",
      "Layer (type)                 Output Shape              Param #   \n",
      "=================================================================\n",
      "conv2d_39 (Conv2D)           (None, 62, 62, 32)        320       \n",
      "_________________________________________________________________\n",
      "conv2d_40 (Conv2D)           (None, 60, 60, 64)        18496     \n",
      "_________________________________________________________________\n",
      "max_pooling2d_20 (MaxPooling (None, 30, 30, 64)        0         \n",
      "_________________________________________________________________\n",
      "flatten_20 (Flatten)         (None, 57600)             0         \n",
      "_________________________________________________________________\n",
      "dense_20 (Dense)             (None, 2)                 115202    \n",
      "=================================================================\n",
      "Total params: 134,018\n",
      "Trainable params: 134,018\n",
      "Non-trainable params: 0\n",
      "_________________________________________________________________\n"
     ]
    }
   ],
   "source": [
    "batch_size = 128\n",
    "epochs = 12\n",
    "input_shape = (64,64,1)\n",
    "num_classes = 2\n",
    "\n",
    "\n",
    "model = Sequential()\n",
    "model.add(Conv2D(32, kernel_size=(3, 3),\n",
    "                 activation='relu',\n",
    "                 input_shape=input_shape))\n",
    "model.add(Conv2D(64, (3, 3), activation='relu'))\n",
    "model.add(MaxPooling2D(pool_size=(2, 2)))\n",
    "#model.add(Dropout(0.25))\n",
    "model.add(Flatten())\n",
    "#model.add(Dense(128, activation='relu'))\n",
    "#model.add(Dropout(0.5))\n",
    "model.add(Dense(num_classes, activation='softmax'))\n",
    "23\n",
    "model.compile(loss=binary_crossentropy,\n",
    "              optimizer=optimizers.Adadelta(),\n",
    "              metrics=['accuracy'])\n",
    "\n",
    "model.summary()\n",
    "#SVG(model_to_dot(model, show_shapes=True).create(prog='dot', format='svg'))\n"
   ]
  },
  {
   "cell_type": "markdown",
   "metadata": {},
   "source": [
    "**¿Por qué la tercera dimensión de la salida de la primera capa Conv2D es 64? ¿qué representa este número?**\n",
    "\n",
    "Es 64 porque así lo indicamos en los parametros de la función y representa el espacio de salidas la capa convolucional, es decir el número de neuronas en la capa. \n",
    "\n",
    "*model.add(Conv2D(64, (1, 3), activation='relu'))*"
   ]
  },
  {
   "cell_type": "markdown",
   "metadata": {},
   "source": [
    "**¿Por qué las capas maxpooling no tienen parámetros libres (parámetros a ajustar en el entrenamiento)?**\n",
    "\n",
    "La capa maxpooling se encarga de reducir la escala según se indique en pool_size. Así pues para los valores (2,2) reduce a la mitad el tamaño en cada dimensionalidad. ///PORQUE no tiene parametros libres?!?!?"
   ]
  },
  {
   "cell_type": "markdown",
   "metadata": {},
   "source": [
    "**¿Qué hace la capa flatten? ¿coincide su salida con lo que te esperarías? (haz la cuenta)**\n",
    "\n",
    "La capa flatten lo que hace es \"aplanar\" el tamaño de las matrices, es decir, convertir un matriz de datos en un array, como la matriz es de tamaño 30x30x64=57600 nos queda un array de 57600 elementos, que coincide con la salida de la capa. "
   ]
  },
  {
   "cell_type": "markdown",
   "metadata": {},
   "source": [
    "**Entrena tu modelo: ¿qué resultados tienes ahora? ¿son mejores que los obtenidos por la regresión logística?**\n",
    "\n"
   ]
  },
  {
   "cell_type": "code",
   "execution_count": null,
   "metadata": {
    "collapsed": true
   },
   "outputs": [],
   "source": []
  }
 ],
 "metadata": {
  "kernelspec": {
   "display_name": "Python 3",
   "language": "python",
   "name": "python3"
  },
  "language_info": {
   "codemirror_mode": {
    "name": "ipython",
    "version": 3
   },
   "file_extension": ".py",
   "mimetype": "text/x-python",
   "name": "python",
   "nbconvert_exporter": "python",
   "pygments_lexer": "ipython3",
   "version": "3.6.2"
  }
 },
 "nbformat": 4,
 "nbformat_minor": 2
}
